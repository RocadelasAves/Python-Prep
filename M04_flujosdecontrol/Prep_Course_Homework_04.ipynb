{
 "cells": [
  {
   "attachments": {},
   "cell_type": "markdown",
   "metadata": {},
   "source": [
    "## Flujos de Control"
   ]
  },
  {
   "attachments": {},
   "cell_type": "markdown",
   "metadata": {},
   "source": [
    "1) Crear una variable que contenga un elemento del conjunto de números enteros y luego imprimir por pantalla si es mayor o menor a cero"
   ]
  },
  {
   "cell_type": "code",
   "execution_count": 1,
   "metadata": {},
   "outputs": [
    {
     "name": "stdout",
     "output_type": "stream",
     "text": [
      "x es mayor que 0\n"
     ]
    }
   ],
   "source": [
    "x=25\n",
    "if x>0:\n",
    "    print(\"x es mayor que 0\")\n",
    "elif x<0:\n",
    "    print(\"x es menor que 0\")\n",
    "else:\n",
    "    print(\"x es igual a 0\")"
   ]
  },
  {
   "attachments": {},
   "cell_type": "markdown",
   "metadata": {},
   "source": [
    "2) Crear dos variables y un condicional que informe si son del mismo tipo de dato"
   ]
  },
  {
   "cell_type": "code",
   "execution_count": 2,
   "metadata": {},
   "outputs": [
    {
     "name": "stdout",
     "output_type": "stream",
     "text": [
      "Las variables son diferentes tipos de datos\n"
     ]
    }
   ],
   "source": [
    "var1= 3.5\n",
    "var2= 5 + 1j \n",
    "\n",
    "if type(var1) == type(var2):\n",
    "    print(\"Las Variables son del mismo tipo de Dato\")\n",
    "else:\n",
    "    print(\"Las variables son diferentes tipos de datos\")"
   ]
  },
  {
   "attachments": {},
   "cell_type": "markdown",
   "metadata": {},
   "source": [
    "3) Para los valores enteros del 1 al 20, imprimir por pantalla si es par o impar"
   ]
  },
  {
   "cell_type": "code",
   "execution_count": 3,
   "metadata": {},
   "outputs": [
    {
     "name": "stdout",
     "output_type": "stream",
     "text": [
      "el numero 1 es impar\n",
      "El numero 2 es par\n",
      "el numero 3 es impar\n",
      "El numero 4 es par\n",
      "el numero 5 es impar\n",
      "El numero 6 es par\n",
      "el numero 7 es impar\n",
      "El numero 8 es par\n",
      "el numero 9 es impar\n",
      "El numero 10 es par\n",
      "el numero 11 es impar\n",
      "El numero 12 es par\n",
      "el numero 13 es impar\n",
      "El numero 14 es par\n",
      "el numero 15 es impar\n",
      "El numero 16 es par\n",
      "el numero 17 es impar\n",
      "El numero 18 es par\n",
      "el numero 19 es impar\n",
      "El numero 20 es par\n"
     ]
    }
   ],
   "source": [
    "for i in range(1, 21):\n",
    "    if i % 2 == 0:\n",
    "        print('El numero', str(i), 'es par')\n",
    "    else:\n",
    "        print('el numero', str(i), 'es impar')\n"
   ]
  },
  {
   "attachments": {},
   "cell_type": "markdown",
   "metadata": {},
   "source": [
    "4) En un ciclo for mostrar para los valores entre 0 y 5 el resultado de elevarlo a la potencia igual a 3"
   ]
  },
  {
   "cell_type": "code",
   "execution_count": 4,
   "metadata": {},
   "outputs": [
    {
     "name": "stdout",
     "output_type": "stream",
     "text": [
      "Valor: 0 Elevado a la 3ra potencia 0\n",
      "Valor: 1 Elevado a la 3ra potencia 1\n",
      "Valor: 2 Elevado a la 3ra potencia 8\n",
      "Valor: 3 Elevado a la 3ra potencia 27\n",
      "Valor: 4 Elevado a la 3ra potencia 64\n",
      "Valor: 5 Elevado a la 3ra potencia 125\n"
     ]
    }
   ],
   "source": [
    "for i in range(0, 6):\n",
    "    print('Valor:',str(i), 'Elevado a la 3ra potencia',i**3)\n",
    "    "
   ]
  },
  {
   "attachments": {},
   "cell_type": "markdown",
   "metadata": {},
   "source": [
    "5) Crear una variable que contenga un número entero y realizar un ciclo for la misma cantidad de ciclos"
   ]
  },
  {
   "cell_type": "code",
   "execution_count": 5,
   "metadata": {},
   "outputs": [
    {
     "name": "stdout",
     "output_type": "stream",
     "text": [
      "15\n"
     ]
    }
   ],
   "source": [
    "n= 15\n",
    "for i in range(0, n):\n",
    "    pass\n",
    "print(n)"
   ]
  },
  {
   "attachments": {},
   "cell_type": "markdown",
   "metadata": {},
   "source": [
    "6) Utilizar un ciclo while para realizar el factorial de un número guardado en una variable, sólo si la variable contiene un número entero mayor a 0"
   ]
  },
  {
   "cell_type": "code",
   "execution_count": 6,
   "metadata": {},
   "outputs": [
    {
     "name": "stdout",
     "output_type": "stream",
     "text": [
      "El factorial es 40320\n"
     ]
    }
   ],
   "source": [
    "n = 8\n",
    "if (type(n) == int):\n",
    "    if(n > 0):\n",
    "        factorial = n\n",
    "        while (n > 2):\n",
    "            n = n - 1\n",
    "            factorial= factorial * n\n",
    "        print('El factorial es', factorial)\n",
    "    else: \n",
    "        print('La variable no es mayor a cero')\n",
    "else:\n",
    "    print('La variable no es un entero')"
   ]
  },
  {
   "cell_type": "code",
   "execution_count": 7,
   "metadata": {},
   "outputs": [
    {
     "name": "stdout",
     "output_type": "stream",
     "text": [
      "El factorial es 40320\n"
     ]
    }
   ],
   "source": [
    "n = 8\n",
    "if (type(n) == int):\n",
    "    if (n > 0):\n",
    "        factorial = n\n",
    "        while (n > 2):\n",
    "            n = n - 1\n",
    "            factorial = factorial * n\n",
    "        print('El factorial es', factorial)\n",
    "    else:\n",
    "        print('La variable no es mayor a cero')\n",
    "else:\n",
    "    print('La variable no es un entero')"
   ]
  },
  {
   "cell_type": "code",
   "execution_count": 8,
   "metadata": {},
   "outputs": [
    {
     "name": "stdout",
     "output_type": "stream",
     "text": [
      "120\n"
     ]
    }
   ],
   "source": [
    "numero = 5\n",
    "factorial = 1\n",
    "for i in range(2, (numero + 1)):\n",
    "    factorial = i * factorial\n",
    "print(factorial)"
   ]
  },
  {
   "attachments": {},
   "cell_type": "markdown",
   "metadata": {},
   "source": [
    "7. Crear un ciclo for dentro de un ciclo while."
   ]
  },
  {
   "cell_type": "code",
   "execution_count": 9,
   "metadata": {},
   "outputs": [
    {
     "name": "stdout",
     "output_type": "stream",
     "text": [
      "Ciclo while # 2\n",
      "Ciclo for nro 1\n",
      "Ciclo for nro 2\n",
      "Ciclo while # 3\n",
      "Ciclo for nro 1\n",
      "Ciclo for nro 2\n",
      "Ciclo for nro 3\n",
      "Ciclo while # 4\n",
      "Ciclo for nro 1\n",
      "Ciclo for nro 2\n",
      "Ciclo for nro 3\n",
      "Ciclo for nro 4\n"
     ]
    }
   ],
   "source": [
    "a= 1 \n",
    "b = 2\n",
    "while b < 5:\n",
    "    print('Ciclo while # ' + str(b))#\n",
    "    for i in range(a, b+1):\n",
    "        print('Ciclo for nro ' + str(i))\n",
    "    b += 1\n"
   ]
  },
  {
   "attachments": {},
   "cell_type": "markdown",
   "metadata": {},
   "source": [
    "8) Crear un ciclo while dentro de un ciclo for"
   ]
  },
  {
   "cell_type": "code",
   "execution_count": 10,
   "metadata": {},
   "outputs": [
    {
     "name": "stdout",
     "output_type": "stream",
     "text": [
      "La palabra 'banano' tiene 2 letras 'a'\n",
      "La palabra 'Mariposa' tiene 2 letras 'a'\n",
      "La palabra 'Cartilago' tiene 2 letras 'a'\n",
      "La palabra 'Desierto' tiene 0 letras 'a'\n"
     ]
    }
   ],
   "source": [
    "def contar_letras_a(palabras):\n",
    "    counts= []\n",
    "    for palabra in palabras:\n",
    "        count = 0\n",
    "        index= 0\n",
    "        while index <len(palabra):\n",
    "            if palabra[index] == 'a':\n",
    "                count +=1\n",
    "            index +=1\n",
    "        counts.append((palabra, count))  \n",
    "    return counts\n",
    "\n",
    "#Usando mi función:\n",
    "lista_palabras= ['banano','Mariposa','Cartilago', 'Desierto']\n",
    "result = contar_letras_a(lista_palabras)\n",
    "\n",
    "for palabra, count in result:\n",
    "        print(f\"La palabra '{palabra}' tiene {count} letras 'a'\")\n",
    "        \n",
    "    "
   ]
  },
  {
   "attachments": {},
   "cell_type": "markdown",
   "metadata": {},
   "source": [
    "9) Imprimir los números primos existentes entre 0 y 30"
   ]
  },
  {
   "cell_type": "code",
   "execution_count": 11,
   "metadata": {},
   "outputs": [
    {
     "name": "stdout",
     "output_type": "stream",
     "text": [
      "0\n",
      "1\n",
      "2\n",
      "3\n",
      "5\n",
      "7\n",
      "11\n",
      "13\n",
      "17\n",
      "19\n",
      "23\n",
      "29\n"
     ]
    }
   ],
   "source": [
    "for num in range(0,31):     # Abro un ciclo for para el rango de numeros 2,31 porque 0 y 1 no son primos y el rango va hasta b-1\n",
    "    primo= True     # Establezco la variable primo como verdadera \n",
    "    for i in range(2, int(num** 0.5) + 1):  #Para encontrar el numero , abro un ciclo for nuevamente para que el numero en cuestion i , itere en el rango de (2,(hasta la raiz cuadrada del numero + 1 ) expresión que me permite calcular si el numero que estamos evaluando en el bucle principal es divisible por 1 y si mismo solamente)\n",
    "        if num % i == 0: \n",
    "            primo= False\n",
    "    if primo:\n",
    "        print(num)\n",
    "    else:\n",
    "        primo = True\n",
    "    n += 1\n",
    "\n",
    "\n"
   ]
  },
  {
   "attachments": {},
   "cell_type": "markdown",
   "metadata": {},
   "source": [
    "10) ¿Se puede mejorar el proceso del punto 9? Utilizar las sentencias break y/ó continue para tal fin"
   ]
  },
  {
   "cell_type": "code",
   "execution_count": 12,
   "metadata": {},
   "outputs": [
    {
     "name": "stdout",
     "output_type": "stream",
     "text": [
      "0\n",
      "1\n",
      "2\n",
      "3\n",
      "5\n",
      "7\n",
      "11\n",
      "13\n",
      "17\n",
      "19\n",
      "23\n",
      "29\n"
     ]
    }
   ],
   "source": [
    "for num in range(0, 31): \n",
    "    es_primo = True # definimos que es primo es verdadero mientras\n",
    "    divisor = 2\n",
    "    while divisor <= int(num ** 0.5): # abrimos un ciclo while para verificar si el numero es divisible por los numeros entre 2 y la raiz2 del num, lo cual es suficiente para verificar si es primo\n",
    "        if num % divisor == 0: # Si el residuo del numero/ el divisor sea igual que 0\n",
    "            es_primo = False # Entonces es primo es falso , porque existe un divisor entre el rango además de si mismo y 1 \n",
    "            break\n",
    "        divisor += 1\n",
    "\n",
    "    if es_primo:\n",
    "        print(num)"
   ]
  },
  {
   "attachments": {},
   "cell_type": "markdown",
   "metadata": {},
   "source": [
    "11) En los puntos 9 y 10, se diseño un código que encuentra números primos y además se lo optimizó. ¿Es posible saber en qué medida se optimizó?"
   ]
  },
  {
   "cell_type": "markdown",
   "metadata": {},
   "source": [
    "R/ Una de las formas de medir la optimización del codigo es medir el tiempo de ejecución lo haremos en este ejemplo, aunque se debe tener en cuenta que la eficiencia se puede medir de varias formas ,no solo en tiempo de ejecución. Podemos verlo considerando el uso de la memoria , la legibilidad del codigo y la facilidad del mantenimiento.\n",
    "En general un codigo más eficiente suele ser mas rapido utiliza menos recursos y es más facil de mantener y entender"
   ]
  },
  {
   "cell_type": "code",
   "execution_count": 13,
   "metadata": {},
   "outputs": [
    {
     "name": "stdout",
     "output_type": "stream",
     "text": [
      "0\n",
      "1\n",
      "2\n",
      "3\n",
      "5\n",
      "7\n",
      "11\n",
      "13\n",
      "17\n",
      "19\n",
      "23\n",
      "29\n",
      "Cantidad de ciclos: 70\n"
     ]
    }
   ],
   "source": [
    "ciclos_sin_break= 0\n",
    "n= 0\n",
    "\n",
    "for num in range(0,31):     # Abro un ciclo for para el rango de numeros 2,31 porque 0 y 1 no son primos y el rango va hasta b-1\n",
    "    primo= True     # Establezco la variable primo como verdadera \n",
    "    for i in range(2, int(num** 0.5) + 1):  #Para encontrar el numero , abro un ciclo for nuevamente para que el numero en cuestion i , itere en el rango de (2,(hasta la raiz cuadrada del numero + 1 ) expresión que me permite calcular si el numero que estamos evaluando en el bucle principal es divisible por 1 y si mismo solamente)\n",
    "        ciclos_sin_break += 1 \n",
    "        if num % i == 0: \n",
    "            primo= False\n",
    "    if primo:\n",
    "        print(num)\n",
    "    else:\n",
    "        primo = True\n",
    "    n += 1\n",
    "print('Cantidad de ciclos: ' + str(ciclos_sin_break))    "
   ]
  },
  {
   "cell_type": "code",
   "execution_count": 14,
   "metadata": {},
   "outputs": [
    {
     "name": "stdout",
     "output_type": "stream",
     "text": [
      "0\n",
      "1\n",
      "2\n",
      "3\n",
      "5\n",
      "7\n",
      "11\n",
      "13\n",
      "17\n",
      "19\n",
      "23\n",
      "29\n",
      "Cantidad de ciclos: 45\n"
     ]
    }
   ],
   "source": [
    "ciclos_con_break= 0\n",
    "n= 0\n",
    "\n",
    "for num in range(0, 31): \n",
    "    es_primo = True # definimos que es primo es verdadero mientras\n",
    "    divisor = 2\n",
    "    while divisor <= int(num ** 0.5): # abrimos un ciclo while para verificar si el numero es divisible por los numeros entre 2 y la raiz2 del num, lo cual es suficiente para verificar si es primo\n",
    "        ciclos_con_break += 1\n",
    "        if num % divisor == 0: # Si el residuo del numero/ el divisor sea igual que 0\n",
    "            es_primo = False # Entonces es primo es falso , porque existe un divisor entre el rango además de si mismo y 1 \n",
    "            break\n",
    "        divisor += 1\n",
    "    n += 1\n",
    "\n",
    "    if es_primo:\n",
    "        print(num)\n",
    "\n",
    "print('Cantidad de ciclos: ' + str(ciclos_con_break)) "
   ]
  },
  {
   "attachments": {},
   "cell_type": "markdown",
   "metadata": {},
   "source": [
    "12) Aplicando continue, armar un ciclo while que solo imprima los valores divisibles por 12, dentro del rango de números de 100 a 300"
   ]
  },
  {
   "cell_type": "code",
   "execution_count": 15,
   "metadata": {},
   "outputs": [
    {
     "name": "stdout",
     "output_type": "stream",
     "text": [
      "108\n",
      "120\n",
      "132\n",
      "144\n",
      "156\n",
      "168\n",
      "180\n",
      "192\n",
      "204\n",
      "216\n",
      "228\n",
      "240\n",
      "252\n",
      "264\n",
      "276\n",
      "288\n",
      "300\n"
     ]
    }
   ],
   "source": [
    "num=100\n",
    "\n",
    "while num <= 300:\n",
    "    if num % 12 != 0:\n",
    "        num += 1\n",
    "        continue\n",
    "    print(num)\n",
    "    num += 1"
   ]
  },
  {
   "attachments": {},
   "cell_type": "markdown",
   "metadata": {},
   "source": [
    "13) Utilizar la función **input()** que permite hacer ingresos por teclado, para encontrar números primos y dar la opción al usario de buscar el siguiente"
   ]
  },
  {
   "cell_type": "code",
   "execution_count": 16,
   "metadata": {},
   "outputs": [
    {
     "name": "stdout",
     "output_type": "stream",
     "text": [
      "5 es un número primo.\n",
      "8 No es un número primo.\n",
      "9999 No es un número primo.\n",
      "¡Gracias por usar el programa!\n"
     ]
    }
   ],
   "source": [
    "\n",
    "def es_primo(numero):\n",
    "    if numero <= 1:\n",
    "        return False\n",
    "    for i in range(2, int(numero ** 0.5) + 1):\n",
    "        if numero % i == 0:\n",
    "            return False\n",
    "    return True\n",
    "\n",
    "while True:\n",
    "    num_str = input(\"Ingrese un número (o 'salir' para terminar): \")\n",
    "\n",
    "    if num_str.lower() == 'salir':\n",
    "        break\n",
    "    try:\n",
    "        num = int(num_str)\n",
    "    except ValueError:\n",
    "       print('Entrada no valida. Por favor, ingrese un numero entero')\n",
    "       continue\n",
    "      \n",
    "    if es_primo(num):\n",
    "        print(f'{num} es un número primo.')\n",
    "    else:\n",
    "        print(f'{num} No es un número primo.')\n",
    "\n",
    "print('¡Gracias por usar el programa!')"
   ]
  },
  {
   "attachments": {},
   "cell_type": "markdown",
   "metadata": {},
   "source": [
    "14) Crear un ciclo while que encuentre dentro del rango de 100 a 300 el primer número divisible por 3 y además múltiplo de 6"
   ]
  },
  {
   "cell_type": "code",
   "execution_count": 29,
   "metadata": {},
   "outputs": [
    {
     "name": "stdout",
     "output_type": "stream",
     "text": [
      "El primer número divisible por 3 y múltiplo de 6 es: 102\n"
     ]
    }
   ],
   "source": [
    "num = 100 # Empezamos desde el primer número del rango\n",
    "\n",
    "while num <= 300:\n",
    "    if num % 3 == 0 and num % 6 == 0:\n",
    "        print(f'El primer número divisible por 3 y múltiplo de 6 es: {num}')\n",
    "        break \n",
    "    num += 1  # Pasamos al siguiente número\n",
    "\n",
    "if num > 300:\n",
    "    print('No se encontró ningún número en el rango que cumpla las condiciones.')\n",
    "\n"
   ]
  }
 ],
 "metadata": {
  "interpreter": {
   "hash": "c85384e4cb51c8b72350f3a8712cc8351fdc3955e32a27f9b60c6242ab125f01"
  },
  "kernelspec": {
   "display_name": "Python 3 (ipykernel)",
   "language": "python",
   "name": "python3"
  },
  "language_info": {
   "codemirror_mode": {
    "name": "ipython",
    "version": 3
   },
   "file_extension": ".py",
   "mimetype": "text/x-python",
   "name": "python",
   "nbconvert_exporter": "python",
   "pygments_lexer": "ipython3",
   "version": "3.11.4"
  }
 },
 "nbformat": 4,
 "nbformat_minor": 4
}
