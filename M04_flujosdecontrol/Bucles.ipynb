{
 "cells": [
  {
   "cell_type": "code",
   "execution_count": 17,
   "metadata": {},
   "outputs": [
    {
     "name": "stdout",
     "output_type": "stream",
     "text": [
      "1\n"
     ]
    }
   ],
   "source": [
    "suma= 0\n",
    "suma= suma +1\n",
    "print(suma)"
   ]
  },
  {
   "cell_type": "code",
   "execution_count": 18,
   "metadata": {},
   "outputs": [
    {
     "name": "stdout",
     "output_type": "stream",
     "text": [
      "3\n"
     ]
    }
   ],
   "source": [
    "suma= 0\n",
    "suma= suma +1\n",
    "suma = suma + 2\n",
    "print(suma)"
   ]
  },
  {
   "cell_type": "code",
   "execution_count": 19,
   "metadata": {},
   "outputs": [
    {
     "name": "stdout",
     "output_type": "stream",
     "text": [
      "2\n",
      "3\n",
      "4\n",
      "5\n",
      "6\n"
     ]
    }
   ],
   "source": [
    "numeros = [1,2,3,4,5,]\n",
    "for num in numeros:\n",
    "    suma= num +1\n",
    "    print(suma)"
   ]
  },
  {
   "cell_type": "code",
   "execution_count": 20,
   "metadata": {},
   "outputs": [
    {
     "name": "stdout",
     "output_type": "stream",
     "text": [
      "Variable de iteración:  1 Resultado= 2\n",
      "Variable de iteración:  2 Resultado= 3\n",
      "Variable de iteración:  3 Resultado= 4\n",
      "Variable de iteración:  4 Resultado= 5\n",
      "Variable de iteración:  5 Resultado= 6\n"
     ]
    }
   ],
   "source": [
    "for i in range(1,6):\n",
    "    suma=i + 1 \n",
    "    print(\"Variable de iteración: \",i, \"Resultado=\", suma)"
   ]
  },
  {
   "cell_type": "code",
   "execution_count": 21,
   "metadata": {},
   "outputs": [
    {
     "name": "stdout",
     "output_type": "stream",
     "text": [
      "num 1\n",
      "num 2\n",
      "num 3\n",
      "num 4\n",
      "num 5\n"
     ]
    }
   ],
   "source": [
    "num=1\n",
    "while num<6:\n",
    "    print(\"num\",num)\n",
    "    num=num + 1\n",
    "    "
   ]
  },
  {
   "cell_type": "code",
   "execution_count": 27,
   "metadata": {},
   "outputs": [
    {
     "name": "stdout",
     "output_type": "stream",
     "text": [
      "S\n",
      "i\n",
      "e\n",
      "m\n",
      "p\n",
      "r\n",
      "e\n",
      " \n",
      "e\n",
      "s\n",
      " \n",
      "m\n",
      "e\n",
      "j\n",
      "o\n",
      "r\n",
      " \n",
      "s\n",
      "e\n",
      "r\n",
      " \n",
      "u\n",
      "e\n",
      "n\n",
      "o\n"
     ]
    }
   ],
   "source": [
    "cadena= \"Siempre es mejor ser bueno\"\n",
    "for letra in cadena:\n",
    "    if letra == 'b':\n",
    "        continue\n",
    "    print(letra)"
   ]
  },
  {
   "cell_type": "code",
   "execution_count": 6,
   "metadata": {},
   "outputs": [
    {
     "name": "stdout",
     "output_type": "stream",
     "text": [
      "5\n",
      "4\n",
      "3\n",
      "2\n",
      "1\n",
      "0\n",
      "fin del juego\n"
     ]
    }
   ],
   "source": [
    "x=6\n",
    "while True:\n",
    "    x-=1\n",
    "    print(x)\n",
    "    if x == 0:\n",
    "        break\n",
    "    \n",
    "print(\"fin del juego\")"
   ]
  }
 ],
 "metadata": {
  "kernelspec": {
   "display_name": "Python 3",
   "language": "python",
   "name": "python3"
  },
  "language_info": {
   "codemirror_mode": {
    "name": "ipython",
    "version": 3
   },
   "file_extension": ".py",
   "mimetype": "text/x-python",
   "name": "python",
   "nbconvert_exporter": "python",
   "pygments_lexer": "ipython3",
   "version": "3.11.4"
  },
  "orig_nbformat": 4
 },
 "nbformat": 4,
 "nbformat_minor": 2
}
