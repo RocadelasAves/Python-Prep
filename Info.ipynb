{
 "cells": [
  {
   "cell_type": "markdown",
   "metadata": {},
   "source": [
    "Guardar cambios en GitHub\n",
    "\n",
    "ctr s \n",
    "ctr ñ\n",
    "\n",
    "escribe en la terminal\n",
    "\n",
    "git add .\n",
    "git commit -m 'primer commit'\n",
    "git push origin main"
   ]
  }
 ],
 "metadata": {
  "language_info": {
   "name": "python"
  },
  "orig_nbformat": 4
 },
 "nbformat": 4,
 "nbformat_minor": 2
}
